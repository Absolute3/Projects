import pandas as pd
from matplotlib import pyplot as plt
import seaborn as sns

agent_roster = {'Astra': 0, 'Breach': 0, 'Brimstone': 0, 'Cypher': 0, 'Jett': 0, 'Killjoy': 0, 'Omen': 0, 'Phoenix': 0, 'Raze': 0, 'Reyna': 0, 'Sage': 0, 'Skye': 0, 'Sova': 0, 'Viper': 0,'Yoru': 0}

df = pd.read_csv(r'/content/sample_data/player_stats.csv')

agents = df["Agents"]

flat_list = agents.str.strip('"[],')

flat_list = flat_list.str.strip(' ')

flat_list = flat_list.str. replace("'","")
flat_list = flat_list.str. replace(",","")
flat_list = flat_list.tolist()
flat_list = [sublist.split(' ') for sublist in flat_list]

for i in flat_list:
  for j in i:
    if j in agent_roster:
      agent_roster[j] += 1
      
plt.figure(figsize=(15,15))
keys = agent_roster.keys()
values = agent_roster.values()
plt.bar(keys,values)
#plt.pie(values,labels=keys)
plt.show()
